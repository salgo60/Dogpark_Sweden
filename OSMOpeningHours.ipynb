{
 "cells": [
  {
   "cell_type": "markdown",
   "id": "4cc6741a-4be6-4600-8b6f-7a34df1c6d7c",
   "metadata": {},
   "source": [
    "### Opening hours example"
   ]
  },
  {
   "cell_type": "code",
   "execution_count": null,
   "id": "1cd1d3d4-20db-4003-bfbf-5a5a83cbed37",
   "metadata": {},
   "outputs": [
    {
     "name": "stdout",
     "output_type": "stream",
     "text": [
      "Hittade 671 Wikidata-objekt kopplade till SAT.\n",
      "✅ Grillplats, Storsand Ålö (node 1412263113) → ['website']\n",
      "✅ Grillplats vid badstrand, Grinda (node 12759232983) → ['website']\n",
      "✅ Grillplats Grinda tältplats syd västra 2 (node 11145662490) → ['website']\n",
      "✅ Östra grillplatsen vid tältplatsen 2 (node 11145662491) → ['website']\n",
      "✅ Rast- och grillplats Öja-Landsort (node 12662333661) → ['description', 'website']\n"
     ]
    }
   ],
   "source": [
    "from SPARQLWrapper import SPARQLWrapper, JSON\n",
    "import requests\n",
    "import time\n",
    "import pandas as pd\n",
    "\n",
    "# --- 1️⃣ SPARQL: hämta Wikidata-objekt kopplade till SAT ---\n",
    "query = \"\"\"\n",
    "SELECT ?item ?itemLabel ?coord ?osmRel ?osmWay ?osmNode WHERE {\n",
    "  ?item wdt:P6104 wd:Q134294510;\n",
    "        wdt:P625 ?coord.\n",
    "  OPTIONAL { ?item wdt:P402 ?osmRel. }      # OSM relation\n",
    "  OPTIONAL { ?item wdt:P11693 ?osmNode. }   # OSM node\n",
    "  OPTIONAL { ?item wdt:P10689 ?osmWay. }    # OSM way\n",
    "  SERVICE wikibase:label { bd:serviceParam wikibase:language \"[AUTO_LANGUAGE],sv,en\". }\n",
    "}\n",
    "\"\"\"\n",
    "\n",
    "sparql = SPARQLWrapper(\"https://query.wikidata.org/sparql\")\n",
    "sparql.setQuery(query)\n",
    "sparql.setReturnFormat(JSON)\n",
    "results = sparql.query().convert()\n",
    "\n",
    "items = []\n",
    "for r in results[\"results\"][\"bindings\"]:\n",
    "    qid = r[\"item\"][\"value\"].split(\"/\")[-1]\n",
    "    label = r.get(\"itemLabel\", {}).get(\"value\", \"\")\n",
    "    osm_node = r.get(\"osmNode\", {}).get(\"value\", \"\")\n",
    "    osm_way = r.get(\"osmWay\", {}).get(\"value\", \"\")\n",
    "    osm_rel = r.get(\"osmRel\", {}).get(\"value\", \"\")\n",
    "    items.append({\n",
    "        \"qid\": qid,\n",
    "        \"label\": label,\n",
    "        \"osm_node\": osm_node,\n",
    "        \"osm_way\": osm_way,\n",
    "        \"osm_rel\": osm_rel\n",
    "    })\n",
    "\n",
    "print(f\"Hittade {len(items)} Wikidata-objekt kopplade till SAT.\")\n",
    "\n",
    "\n",
    "# --- 2️⃣ Funktion för att hämta OSM-taggar via Overpass ---\n",
    "def get_osm_tags(osm_type, osm_id):\n",
    "    query = f\"\"\"\n",
    "    [out:json][timeout:25];\n",
    "    {osm_type}({osm_id});\n",
    "    out tags;\n",
    "    \"\"\"\n",
    "    url = \"https://overpass-api.de/api/interpreter\"\n",
    "    r = requests.get(url, params={\"data\": query})\n",
    "    if r.status_code != 200:\n",
    "        return {}\n",
    "    data = r.json()\n",
    "    if not data.get(\"elements\"):\n",
    "        return {}\n",
    "    return data[\"elements\"][0].get(\"tags\", {})\n",
    "\n",
    "\n",
    "# --- 3️⃣ Hämta opening_hours, description m.m. för varje OSM-objekt ---\n",
    "records = []\n",
    "for item in items:\n",
    "    for osm_type, osm_id in [\n",
    "        (\"node\", item[\"osm_node\"]),\n",
    "        (\"way\", item[\"osm_way\"]),\n",
    "        (\"relation\", item[\"osm_rel\"])\n",
    "    ]:\n",
    "        if not osm_id:\n",
    "            continue\n",
    "\n",
    "        tags = get_osm_tags(osm_type, osm_id)\n",
    "        if not tags:\n",
    "            continue\n",
    "\n",
    "        relevant = {k: v for k, v in tags.items()\n",
    "                    if k in [\"opening_hours\", \"opening_hours:note\", \"description\", \"source:opening_hours\", \"website\"]}\n",
    "\n",
    "        if relevant:\n",
    "            record = {\n",
    "                \"qid\": item[\"qid\"],\n",
    "                \"label\": item[\"label\"],\n",
    "                \"osm_type\": osm_type,\n",
    "                \"osm_id\": osm_id,\n",
    "                **relevant\n",
    "            }\n",
    "            records.append(record)\n",
    "            print(f\"✅ {item['label']} ({osm_type} {osm_id}) → {list(relevant.keys())}\")\n",
    "        time.sleep(1)  # vänlig paus mot Overpass\n",
    "\n",
    "# --- 4️⃣ Sammanställ som tabell ---\n",
    "df = pd.DataFrame(records)\n",
    "print(\"\\n--- Resultat ---\")\n",
    "print(df)\n",
    "\n",
    "# --- 5️⃣ Spara till CSV (valfritt) ---\n",
    "df.to_csv(\"SAT_opening_hours_OSM.csv\", index=False, encoding=\"utf-8-sig\")\n",
    "print(\"\\n💾 Sparat till SAT_opening_hours_OSM.csv\")\n"
   ]
  },
  {
   "cell_type": "code",
   "execution_count": null,
   "id": "81aff8c7-6823-4cb4-aa05-0b80fb2820cb",
   "metadata": {},
   "outputs": [],
   "source": [
    "items"
   ]
  },
  {
   "cell_type": "code",
   "execution_count": null,
   "id": "90f07fbc-4b88-4121-9234-3fb57a032731",
   "metadata": {},
   "outputs": [],
   "source": []
  }
 ],
 "metadata": {
  "kernelspec": {
   "display_name": "Python 3 (ipykernel)",
   "language": "python",
   "name": "python3"
  },
  "language_info": {
   "codemirror_mode": {
    "name": "ipython",
    "version": 3
   },
   "file_extension": ".py",
   "mimetype": "text/x-python",
   "name": "python",
   "nbconvert_exporter": "python",
   "pygments_lexer": "ipython3",
   "version": "3.12.2"
  }
 },
 "nbformat": 4,
 "nbformat_minor": 5
}
