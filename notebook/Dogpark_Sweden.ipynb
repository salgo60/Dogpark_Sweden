{
 "cells": [
  {
   "cell_type": "markdown",
   "id": "adc0d3b6-1f39-41fb-9f15-299ffabac2cf",
   "metadata": {},
   "source": [
    "* [Issue 2](https://github.com/salgo60/Dogpark_Sweden/issues/2)\n",
    "* denna notebook [Dogpark_Sweden.ipynb]()"
   ]
  },
  {
   "cell_type": "code",
   "execution_count": 2,
   "id": "3a74d92a-f979-426e-b51e-c288d3afc881",
   "metadata": {},
   "outputs": [
    {
     "name": "stdout",
     "output_type": "stream",
     "text": [
      "Hämtar sida 39/39 ...\n",
      "✅ Klart! 760 hundparker sparade i hundparker_umap.geojson\n"
     ]
    }
   ],
   "source": [
    "import requests, json, time\n",
    "from bs4 import BeautifulSoup\n",
    "\n",
    "BASE_URL = \"https://www.hundlistan.se/\"\n",
    "params = {\n",
    "    \"mylisting-ajax\": \"1\",\n",
    "    \"action\": \"get_listings\",\n",
    "    \"security\": \"5e528da4d5\",  # säkerhets-token (kan behöva uppdateras om Hundlistan ändrar den)\n",
    "    \"form_data[preserve_page]\": \"true\",\n",
    "    \"form_data[sort]\": \"latest\",\n",
    "    \"form_data[region]\": \"\",\n",
    "    \"form_data[search_location]\": \"\",\n",
    "    \"form_data[lat]\": \"false\",\n",
    "    \"form_data[lng]\": \"false\",\n",
    "    \"listing_type\": \"hundpark\",\n",
    "    \"listing_wrap\": \"col-md-12 grid-item\"\n",
    "}\n",
    "\n",
    "features = []\n",
    "\n",
    "for page in range(1, 40):  # 1 till 39\n",
    "    params[\"form_data[page]\"] = str(page)\n",
    "    print(f\"Hämtar sida {page}/39 ...\", end=\"\\r\")\n",
    "\n",
    "    r = requests.get(BASE_URL, params=params)\n",
    "    if r.status_code != 200:\n",
    "        print(f\"\\n⚠️ Sida {page} misslyckades ({r.status_code})\")\n",
    "        continue\n",
    "\n",
    "    data = r.json()\n",
    "    html = data.get(\"html\", \"\")\n",
    "    soup = BeautifulSoup(html, \"html.parser\")\n",
    "\n",
    "    for item in soup.select(\".lf-item-container\"):\n",
    "        try:\n",
    "            data_id = item.get(\"data-id\")\n",
    "            title = item.select_one(\".listing-preview-title\").get_text(strip=True)\n",
    "            href = item.select_one(\"a\")[\"href\"]\n",
    "            lan = item.select_one(\".lf-contact li\").get_text(strip=True)\n",
    "            loc = json.loads(item.get(\"data-locations\"))[0]\n",
    "\n",
    "            address = loc.get(\"address\")\n",
    "            lat = float(loc.get(\"lat\"))\n",
    "            lng = float(loc.get(\"lng\"))\n",
    "\n",
    "            popup_html = f\"\"\"\n",
    "            <b>{title}</b><br>\n",
    "            {address}<br>\n",
    "            {lan}<br>\n",
    "            <a href=\"{href}\" target=\"_blank\">Visa på Hundlistan</a>\n",
    "            \"\"\".strip()\n",
    "\n",
    "            features.append({\n",
    "                \"type\": \"Feature\",\n",
    "                \"geometry\": {\"type\": \"Point\", \"coordinates\": [lng, lat]},\n",
    "                \"properties\": {\n",
    "                    \"id\": data_id,\n",
    "                    \"namn\": title,\n",
    "                    \"adress\": address,\n",
    "                    \"lan\": lan,\n",
    "                    \"url\": href,\n",
    "                    \"popup\": popup_html\n",
    "                }\n",
    "            })\n",
    "        except Exception as e:\n",
    "            print(f\"\\n⚠️ Fel vid parsing: {e}\")\n",
    "\n",
    "    time.sleep(0.5)  # vänlig delay mot servern\n",
    "\n",
    "geojson = {\n",
    "    \"type\": \"FeatureCollection\",\n",
    "    \"features\": features\n",
    "}\n",
    "\n",
    "with open(\"hundparker_umap.geojson\", \"w\", encoding=\"utf-8\") as f:\n",
    "    json.dump(geojson, f, ensure_ascii=False, indent=2)\n",
    "\n",
    "print(f\"\\n✅ Klart! {len(features)} hundparker sparade i hundparker_umap.geojson\")\n"
   ]
  },
  {
   "cell_type": "code",
   "execution_count": null,
   "id": "f80071d8-061c-4961-9078-8e8c424dd8bb",
   "metadata": {},
   "outputs": [],
   "source": []
  }
 ],
 "metadata": {
  "kernelspec": {
   "display_name": "Python 3 (ipykernel)",
   "language": "python",
   "name": "python3"
  },
  "language_info": {
   "codemirror_mode": {
    "name": "ipython",
    "version": 3
   },
   "file_extension": ".py",
   "mimetype": "text/x-python",
   "name": "python",
   "nbconvert_exporter": "python",
   "pygments_lexer": "ipython3",
   "version": "3.12.2"
  }
 },
 "nbformat": 4,
 "nbformat_minor": 5
}
